{
 "cells": [
  {
   "cell_type": "code",
   "execution_count": 1,
   "metadata": {
    "_cell_guid": "b1076dfc-b9ad-4769-8c92-a6c4dae69d19",
    "_uuid": "8f2839f25d086af736a60e9eeb907d3b93b6e0e5",
    "execution": {
     "iopub.execute_input": "2021-03-06T09:36:27.173907Z",
     "iopub.status.busy": "2021-03-06T09:36:27.173325Z",
     "iopub.status.idle": "2021-03-06T09:36:27.345140Z",
     "shell.execute_reply": "2021-03-06T09:36:27.345630Z"
    },
    "papermill": {
     "duration": 0.186773,
     "end_time": "2021-03-06T09:36:27.345964",
     "exception": false,
     "start_time": "2021-03-06T09:36:27.159191",
     "status": "completed"
    },
    "tags": []
   },
   "outputs": [],
   "source": [
    "import pandas as pd\n",
    "import numpy as np\n",
    "import matplotlib.pyplot as plt\n",
    "#country = \"US\"\n",
    "country = 'India'\n",
    "\n",
    "#Total COVID confirmed cases\n",
    "df_confirmed = pd.read_csv(\"https://raw.githubusercontent.com/CSSEGISandData/COVID-19/master/csse_covid_19_data/csse_covid_19_time_series/time_series_covid19_confirmed_global.csv\")\n",
    "#df_confirmed.to_csv('global.csv')"
   ]
  },
  {
   "cell_type": "code",
   "execution_count": 2,
   "metadata": {
    "execution": {
     "iopub.execute_input": "2021-03-06T09:36:27.370378Z",
     "iopub.status.busy": "2021-03-06T09:36:27.369866Z",
     "iopub.status.idle": "2021-03-06T09:36:27.406689Z",
     "shell.execute_reply": "2021-03-06T09:36:27.407180Z"
    },
    "papermill": {
     "duration": 0.050341,
     "end_time": "2021-03-06T09:36:27.407336",
     "exception": false,
     "start_time": "2021-03-06T09:36:27.356995",
     "status": "completed"
    },
    "tags": []
   },
   "outputs": [
    {
     "data": {
      "text/html": [
       "<div>\n",
       "<style scoped>\n",
       "    .dataframe tbody tr th:only-of-type {\n",
       "        vertical-align: middle;\n",
       "    }\n",
       "\n",
       "    .dataframe tbody tr th {\n",
       "        vertical-align: top;\n",
       "    }\n",
       "\n",
       "    .dataframe thead th {\n",
       "        text-align: right;\n",
       "    }\n",
       "</style>\n",
       "<table border=\"1\" class=\"dataframe\">\n",
       "  <thead>\n",
       "    <tr style=\"text-align: right;\">\n",
       "      <th></th>\n",
       "      <th>Province/State</th>\n",
       "      <th>Country/Region</th>\n",
       "      <th>Lat</th>\n",
       "      <th>Long</th>\n",
       "      <th>1/22/20</th>\n",
       "      <th>1/23/20</th>\n",
       "      <th>1/24/20</th>\n",
       "      <th>1/25/20</th>\n",
       "      <th>1/26/20</th>\n",
       "      <th>1/27/20</th>\n",
       "      <th>...</th>\n",
       "      <th>2/24/21</th>\n",
       "      <th>2/25/21</th>\n",
       "      <th>2/26/21</th>\n",
       "      <th>2/27/21</th>\n",
       "      <th>2/28/21</th>\n",
       "      <th>3/1/21</th>\n",
       "      <th>3/2/21</th>\n",
       "      <th>3/3/21</th>\n",
       "      <th>3/4/21</th>\n",
       "      <th>3/5/21</th>\n",
       "    </tr>\n",
       "  </thead>\n",
       "  <tbody>\n",
       "    <tr>\n",
       "      <th>0</th>\n",
       "      <td>NaN</td>\n",
       "      <td>Afghanistan</td>\n",
       "      <td>33.93911</td>\n",
       "      <td>67.709953</td>\n",
       "      <td>0</td>\n",
       "      <td>0</td>\n",
       "      <td>0</td>\n",
       "      <td>0</td>\n",
       "      <td>0</td>\n",
       "      <td>0</td>\n",
       "      <td>...</td>\n",
       "      <td>55664</td>\n",
       "      <td>55680</td>\n",
       "      <td>55696</td>\n",
       "      <td>55707</td>\n",
       "      <td>55714</td>\n",
       "      <td>55733</td>\n",
       "      <td>55759</td>\n",
       "      <td>55770</td>\n",
       "      <td>55775</td>\n",
       "      <td>55827</td>\n",
       "    </tr>\n",
       "    <tr>\n",
       "      <th>1</th>\n",
       "      <td>NaN</td>\n",
       "      <td>Albania</td>\n",
       "      <td>41.15330</td>\n",
       "      <td>20.168300</td>\n",
       "      <td>0</td>\n",
       "      <td>0</td>\n",
       "      <td>0</td>\n",
       "      <td>0</td>\n",
       "      <td>0</td>\n",
       "      <td>0</td>\n",
       "      <td>...</td>\n",
       "      <td>103327</td>\n",
       "      <td>104313</td>\n",
       "      <td>105229</td>\n",
       "      <td>106215</td>\n",
       "      <td>107167</td>\n",
       "      <td>107931</td>\n",
       "      <td>108823</td>\n",
       "      <td>109674</td>\n",
       "      <td>110521</td>\n",
       "      <td>111301</td>\n",
       "    </tr>\n",
       "    <tr>\n",
       "      <th>2</th>\n",
       "      <td>NaN</td>\n",
       "      <td>Algeria</td>\n",
       "      <td>28.03390</td>\n",
       "      <td>1.659600</td>\n",
       "      <td>0</td>\n",
       "      <td>0</td>\n",
       "      <td>0</td>\n",
       "      <td>0</td>\n",
       "      <td>0</td>\n",
       "      <td>0</td>\n",
       "      <td>...</td>\n",
       "      <td>112461</td>\n",
       "      <td>112622</td>\n",
       "      <td>112805</td>\n",
       "      <td>112960</td>\n",
       "      <td>113092</td>\n",
       "      <td>113255</td>\n",
       "      <td>113430</td>\n",
       "      <td>113593</td>\n",
       "      <td>113761</td>\n",
       "      <td>113948</td>\n",
       "    </tr>\n",
       "    <tr>\n",
       "      <th>3</th>\n",
       "      <td>NaN</td>\n",
       "      <td>Andorra</td>\n",
       "      <td>42.50630</td>\n",
       "      <td>1.521800</td>\n",
       "      <td>0</td>\n",
       "      <td>0</td>\n",
       "      <td>0</td>\n",
       "      <td>0</td>\n",
       "      <td>0</td>\n",
       "      <td>0</td>\n",
       "      <td>...</td>\n",
       "      <td>10775</td>\n",
       "      <td>10799</td>\n",
       "      <td>10822</td>\n",
       "      <td>10849</td>\n",
       "      <td>10866</td>\n",
       "      <td>10889</td>\n",
       "      <td>10908</td>\n",
       "      <td>10948</td>\n",
       "      <td>10976</td>\n",
       "      <td>10998</td>\n",
       "    </tr>\n",
       "    <tr>\n",
       "      <th>4</th>\n",
       "      <td>NaN</td>\n",
       "      <td>Angola</td>\n",
       "      <td>-11.20270</td>\n",
       "      <td>17.873900</td>\n",
       "      <td>0</td>\n",
       "      <td>0</td>\n",
       "      <td>0</td>\n",
       "      <td>0</td>\n",
       "      <td>0</td>\n",
       "      <td>0</td>\n",
       "      <td>...</td>\n",
       "      <td>20640</td>\n",
       "      <td>20695</td>\n",
       "      <td>20759</td>\n",
       "      <td>20782</td>\n",
       "      <td>20807</td>\n",
       "      <td>20854</td>\n",
       "      <td>20882</td>\n",
       "      <td>20923</td>\n",
       "      <td>20981</td>\n",
       "      <td>21026</td>\n",
       "    </tr>\n",
       "    <tr>\n",
       "      <th>5</th>\n",
       "      <td>NaN</td>\n",
       "      <td>Antigua and Barbuda</td>\n",
       "      <td>17.06080</td>\n",
       "      <td>-61.796400</td>\n",
       "      <td>0</td>\n",
       "      <td>0</td>\n",
       "      <td>0</td>\n",
       "      <td>0</td>\n",
       "      <td>0</td>\n",
       "      <td>0</td>\n",
       "      <td>...</td>\n",
       "      <td>646</td>\n",
       "      <td>701</td>\n",
       "      <td>701</td>\n",
       "      <td>726</td>\n",
       "      <td>730</td>\n",
       "      <td>769</td>\n",
       "      <td>769</td>\n",
       "      <td>769</td>\n",
       "      <td>813</td>\n",
       "      <td>813</td>\n",
       "    </tr>\n",
       "    <tr>\n",
       "      <th>6</th>\n",
       "      <td>NaN</td>\n",
       "      <td>Argentina</td>\n",
       "      <td>-38.41610</td>\n",
       "      <td>-63.616700</td>\n",
       "      <td>0</td>\n",
       "      <td>0</td>\n",
       "      <td>0</td>\n",
       "      <td>0</td>\n",
       "      <td>0</td>\n",
       "      <td>0</td>\n",
       "      <td>...</td>\n",
       "      <td>2085411</td>\n",
       "      <td>2093645</td>\n",
       "      <td>2098728</td>\n",
       "      <td>2104197</td>\n",
       "      <td>2107365</td>\n",
       "      <td>2112023</td>\n",
       "      <td>2118676</td>\n",
       "      <td>2126531</td>\n",
       "      <td>2133963</td>\n",
       "      <td>2141854</td>\n",
       "    </tr>\n",
       "    <tr>\n",
       "      <th>7</th>\n",
       "      <td>NaN</td>\n",
       "      <td>Armenia</td>\n",
       "      <td>40.06910</td>\n",
       "      <td>45.038200</td>\n",
       "      <td>0</td>\n",
       "      <td>0</td>\n",
       "      <td>0</td>\n",
       "      <td>0</td>\n",
       "      <td>0</td>\n",
       "      <td>0</td>\n",
       "      <td>...</td>\n",
       "      <td>170945</td>\n",
       "      <td>171227</td>\n",
       "      <td>171510</td>\n",
       "      <td>171793</td>\n",
       "      <td>172058</td>\n",
       "      <td>172216</td>\n",
       "      <td>172456</td>\n",
       "      <td>172816</td>\n",
       "      <td>173307</td>\n",
       "      <td>173749</td>\n",
       "    </tr>\n",
       "    <tr>\n",
       "      <th>8</th>\n",
       "      <td>Australian Capital Territory</td>\n",
       "      <td>Australia</td>\n",
       "      <td>-35.47350</td>\n",
       "      <td>149.012400</td>\n",
       "      <td>0</td>\n",
       "      <td>0</td>\n",
       "      <td>0</td>\n",
       "      <td>0</td>\n",
       "      <td>0</td>\n",
       "      <td>0</td>\n",
       "      <td>...</td>\n",
       "      <td>118</td>\n",
       "      <td>118</td>\n",
       "      <td>118</td>\n",
       "      <td>118</td>\n",
       "      <td>118</td>\n",
       "      <td>118</td>\n",
       "      <td>120</td>\n",
       "      <td>120</td>\n",
       "      <td>120</td>\n",
       "      <td>120</td>\n",
       "    </tr>\n",
       "    <tr>\n",
       "      <th>9</th>\n",
       "      <td>New South Wales</td>\n",
       "      <td>Australia</td>\n",
       "      <td>-33.86880</td>\n",
       "      <td>151.209300</td>\n",
       "      <td>0</td>\n",
       "      <td>0</td>\n",
       "      <td>0</td>\n",
       "      <td>0</td>\n",
       "      <td>3</td>\n",
       "      <td>4</td>\n",
       "      <td>...</td>\n",
       "      <td>5162</td>\n",
       "      <td>5166</td>\n",
       "      <td>5172</td>\n",
       "      <td>5177</td>\n",
       "      <td>5180</td>\n",
       "      <td>5183</td>\n",
       "      <td>5189</td>\n",
       "      <td>5193</td>\n",
       "      <td>5205</td>\n",
       "      <td>5207</td>\n",
       "    </tr>\n",
       "  </tbody>\n",
       "</table>\n",
       "<p>10 rows × 413 columns</p>\n",
       "</div>"
      ],
      "text/plain": [
       "                 Province/State       Country/Region       Lat        Long  \\\n",
       "0                           NaN          Afghanistan  33.93911   67.709953   \n",
       "1                           NaN              Albania  41.15330   20.168300   \n",
       "2                           NaN              Algeria  28.03390    1.659600   \n",
       "3                           NaN              Andorra  42.50630    1.521800   \n",
       "4                           NaN               Angola -11.20270   17.873900   \n",
       "5                           NaN  Antigua and Barbuda  17.06080  -61.796400   \n",
       "6                           NaN            Argentina -38.41610  -63.616700   \n",
       "7                           NaN              Armenia  40.06910   45.038200   \n",
       "8  Australian Capital Territory            Australia -35.47350  149.012400   \n",
       "9               New South Wales            Australia -33.86880  151.209300   \n",
       "\n",
       "   1/22/20  1/23/20  1/24/20  1/25/20  1/26/20  1/27/20  ...  2/24/21  \\\n",
       "0        0        0        0        0        0        0  ...    55664   \n",
       "1        0        0        0        0        0        0  ...   103327   \n",
       "2        0        0        0        0        0        0  ...   112461   \n",
       "3        0        0        0        0        0        0  ...    10775   \n",
       "4        0        0        0        0        0        0  ...    20640   \n",
       "5        0        0        0        0        0        0  ...      646   \n",
       "6        0        0        0        0        0        0  ...  2085411   \n",
       "7        0        0        0        0        0        0  ...   170945   \n",
       "8        0        0        0        0        0        0  ...      118   \n",
       "9        0        0        0        0        3        4  ...     5162   \n",
       "\n",
       "   2/25/21  2/26/21  2/27/21  2/28/21   3/1/21   3/2/21   3/3/21   3/4/21  \\\n",
       "0    55680    55696    55707    55714    55733    55759    55770    55775   \n",
       "1   104313   105229   106215   107167   107931   108823   109674   110521   \n",
       "2   112622   112805   112960   113092   113255   113430   113593   113761   \n",
       "3    10799    10822    10849    10866    10889    10908    10948    10976   \n",
       "4    20695    20759    20782    20807    20854    20882    20923    20981   \n",
       "5      701      701      726      730      769      769      769      813   \n",
       "6  2093645  2098728  2104197  2107365  2112023  2118676  2126531  2133963   \n",
       "7   171227   171510   171793   172058   172216   172456   172816   173307   \n",
       "8      118      118      118      118      118      120      120      120   \n",
       "9     5166     5172     5177     5180     5183     5189     5193     5205   \n",
       "\n",
       "    3/5/21  \n",
       "0    55827  \n",
       "1   111301  \n",
       "2   113948  \n",
       "3    10998  \n",
       "4    21026  \n",
       "5      813  \n",
       "6  2141854  \n",
       "7   173749  \n",
       "8      120  \n",
       "9     5207  \n",
       "\n",
       "[10 rows x 413 columns]"
      ]
     },
     "execution_count": 2,
     "metadata": {},
     "output_type": "execute_result"
    }
   ],
   "source": [
    "df_confirmed.head(10)"
   ]
  },
  {
   "cell_type": "code",
   "execution_count": 3,
   "metadata": {
    "execution": {
     "iopub.execute_input": "2021-03-06T09:36:27.433403Z",
     "iopub.status.busy": "2021-03-06T09:36:27.432866Z",
     "iopub.status.idle": "2021-03-06T09:36:27.847121Z",
     "shell.execute_reply": "2021-03-06T09:36:27.847542Z"
    },
    "papermill": {
     "duration": 0.428597,
     "end_time": "2021-03-06T09:36:27.847726",
     "exception": false,
     "start_time": "2021-03-06T09:36:27.419129",
     "status": "completed"
    },
    "tags": []
   },
   "outputs": [
    {
     "name": "stdout",
     "output_type": "stream",
     "text": [
      "Total days in the dataset 409\n"
     ]
    },
    {
     "data": {
      "image/png": "[encoded data removed]",
      "text/plain": [
       "<Figure size 720x360 with 1 Axes>"
      ]
     },
     "metadata": {
      "needs_background": "light"
     },
     "output_type": "display_data"
    }
   ],
   "source": [
    "df_confirmed_country = df_confirmed[df_confirmed[\"Country/Region\"] == country]\n",
    "df_confirmed_country = pd.DataFrame(df_confirmed_country[df_confirmed_country.columns[4:]].sum(),columns=[\"confirmed\"])\n",
    "df_confirmed_country.index = pd.to_datetime(df_confirmed_country.index,format='%m/%d/%y')\n",
    "\n",
    "df_confirmed_country.plot(figsize=(10,5),title=\"COVID confirmed cases\")\n",
    "\n",
    "print(\"Total days in the dataset\", len(df_confirmed_country))\n"
   ]
  },
  {
   "cell_type": "code",
   "execution_count": 4,
   "metadata": {
    "execution": {
     "iopub.execute_input": "2021-03-06T09:36:27.881314Z",
     "iopub.status.busy": "2021-03-06T09:36:27.880285Z",
     "iopub.status.idle": "2021-03-06T09:36:27.884618Z",
     "shell.execute_reply": "2021-03-06T09:36:27.884029Z"
    },
    "papermill": {
     "duration": 0.024456,
     "end_time": "2021-03-06T09:36:27.884764",
     "exception": false,
     "start_time": "2021-03-06T09:36:27.860308",
     "status": "completed"
    },
    "tags": []
   },
   "outputs": [
    {
     "data": {
      "text/html": [
       "<div>\n",
       "<style scoped>\n",
       "    .dataframe tbody tr th:only-of-type {\n",
       "        vertical-align: middle;\n",
       "    }\n",
       "\n",
       "    .dataframe tbody tr th {\n",
       "        vertical-align: top;\n",
       "    }\n",
       "\n",
       "    .dataframe thead th {\n",
       "        text-align: right;\n",
       "    }\n",
       "</style>\n",
       "<table border=\"1\" class=\"dataframe\">\n",
       "  <thead>\n",
       "    <tr style=\"text-align: right;\">\n",
       "      <th></th>\n",
       "      <th>confirmed</th>\n",
       "    </tr>\n",
       "  </thead>\n",
       "  <tbody>\n",
       "    <tr>\n",
       "      <th>2020-01-22</th>\n",
       "      <td>0</td>\n",
       "    </tr>\n",
       "    <tr>\n",
       "      <th>2020-01-23</th>\n",
       "      <td>0</td>\n",
       "    </tr>\n",
       "    <tr>\n",
       "      <th>2020-01-24</th>\n",
       "      <td>0</td>\n",
       "    </tr>\n",
       "    <tr>\n",
       "      <th>2020-01-25</th>\n",
       "      <td>0</td>\n",
       "    </tr>\n",
       "    <tr>\n",
       "      <th>2020-01-26</th>\n",
       "      <td>0</td>\n",
       "    </tr>\n",
       "    <tr>\n",
       "      <th>2020-01-27</th>\n",
       "      <td>0</td>\n",
       "    </tr>\n",
       "    <tr>\n",
       "      <th>2020-01-28</th>\n",
       "      <td>0</td>\n",
       "    </tr>\n",
       "    <tr>\n",
       "      <th>2020-01-29</th>\n",
       "      <td>0</td>\n",
       "    </tr>\n",
       "    <tr>\n",
       "      <th>2020-01-30</th>\n",
       "      <td>1</td>\n",
       "    </tr>\n",
       "    <tr>\n",
       "      <th>2020-01-31</th>\n",
       "      <td>1</td>\n",
       "    </tr>\n",
       "  </tbody>\n",
       "</table>\n",
       "</div>"
      ],
      "text/plain": [
       "            confirmed\n",
       "2020-01-22          0\n",
       "2020-01-23          0\n",
       "2020-01-24          0\n",
       "2020-01-25          0\n",
       "2020-01-26          0\n",
       "2020-01-27          0\n",
       "2020-01-28          0\n",
       "2020-01-29          0\n",
       "2020-01-30          1\n",
       "2020-01-31          1"
      ]
     },
     "execution_count": 4,
     "metadata": {},
     "output_type": "execute_result"
    }
   ],
   "source": [
    "df_confirmed_country.head(10)"
   ]
  },
  {
   "cell_type": "code",
   "execution_count": 5,
   "metadata": {
    "execution": {
     "iopub.execute_input": "2021-03-06T09:36:27.918513Z",
     "iopub.status.busy": "2021-03-06T09:36:27.917946Z",
     "iopub.status.idle": "2021-03-06T09:36:27.920561Z",
     "shell.execute_reply": "2021-03-06T09:36:27.921001Z"
    },
    "papermill": {
     "duration": 0.02347,
     "end_time": "2021-03-06T09:36:27.921150",
     "exception": false,
     "start_time": "2021-03-06T09:36:27.897680",
     "status": "completed"
    },
    "tags": []
   },
   "outputs": [
    {
     "data": {
      "text/html": [
       "<div>\n",
       "<style scoped>\n",
       "    .dataframe tbody tr th:only-of-type {\n",
       "        vertical-align: middle;\n",
       "    }\n",
       "\n",
       "    .dataframe tbody tr th {\n",
       "        vertical-align: top;\n",
       "    }\n",
       "\n",
       "    .dataframe thead th {\n",
       "        text-align: right;\n",
       "    }\n",
       "</style>\n",
       "<table border=\"1\" class=\"dataframe\">\n",
       "  <thead>\n",
       "    <tr style=\"text-align: right;\">\n",
       "      <th></th>\n",
       "      <th>confirmed</th>\n",
       "    </tr>\n",
       "  </thead>\n",
       "  <tbody>\n",
       "    <tr>\n",
       "      <th>2021-02-24</th>\n",
       "      <td>11046914</td>\n",
       "    </tr>\n",
       "    <tr>\n",
       "      <th>2021-02-25</th>\n",
       "      <td>11063491</td>\n",
       "    </tr>\n",
       "    <tr>\n",
       "      <th>2021-02-26</th>\n",
       "      <td>11079979</td>\n",
       "    </tr>\n",
       "    <tr>\n",
       "      <th>2021-02-27</th>\n",
       "      <td>11096731</td>\n",
       "    </tr>\n",
       "    <tr>\n",
       "      <th>2021-02-28</th>\n",
       "      <td>11112241</td>\n",
       "    </tr>\n",
       "    <tr>\n",
       "      <th>2021-03-01</th>\n",
       "      <td>11124527</td>\n",
       "    </tr>\n",
       "    <tr>\n",
       "      <th>2021-03-02</th>\n",
       "      <td>11139516</td>\n",
       "    </tr>\n",
       "    <tr>\n",
       "      <th>2021-03-03</th>\n",
       "      <td>11156923</td>\n",
       "    </tr>\n",
       "    <tr>\n",
       "      <th>2021-03-04</th>\n",
       "      <td>11173761</td>\n",
       "    </tr>\n",
       "    <tr>\n",
       "      <th>2021-03-05</th>\n",
       "      <td>11192045</td>\n",
       "    </tr>\n",
       "  </tbody>\n",
       "</table>\n",
       "</div>"
      ],
      "text/plain": [
       "            confirmed\n",
       "2021-02-24   11046914\n",
       "2021-02-25   11063491\n",
       "2021-02-26   11079979\n",
       "2021-02-27   11096731\n",
       "2021-02-28   11112241\n",
       "2021-03-01   11124527\n",
       "2021-03-02   11139516\n",
       "2021-03-03   11156923\n",
       "2021-03-04   11173761\n",
       "2021-03-05   11192045"
      ]
     },
     "execution_count": 5,
     "metadata": {},
     "output_type": "execute_result"
    }
   ],
   "source": [
    "df_confirmed_country.tail(10)"
   ]
  },
  {
   "cell_type": "code",
   "execution_count": 6,
   "metadata": {
    "execution": {
     "iopub.execute_input": "2021-03-06T09:36:27.950446Z",
     "iopub.status.busy": "2021-03-06T09:36:27.949859Z",
     "iopub.status.idle": "2021-03-06T09:36:27.957582Z",
     "shell.execute_reply": "2021-03-06T09:36:27.958004Z"
    },
    "papermill": {
     "duration": 0.023802,
     "end_time": "2021-03-06T09:36:27.958165",
     "exception": false,
     "start_time": "2021-03-06T09:36:27.934363",
     "status": "completed"
    },
    "tags": []
   },
   "outputs": [
    {
     "data": {
      "text/html": [
       "<div>\n",
       "<style scoped>\n",
       "    .dataframe tbody tr th:only-of-type {\n",
       "        vertical-align: middle;\n",
       "    }\n",
       "\n",
       "    .dataframe tbody tr th {\n",
       "        vertical-align: top;\n",
       "    }\n",
       "\n",
       "    .dataframe thead th {\n",
       "        text-align: right;\n",
       "    }\n",
       "</style>\n",
       "<table border=\"1\" class=\"dataframe\">\n",
       "  <thead>\n",
       "    <tr style=\"text-align: right;\">\n",
       "      <th></th>\n",
       "      <th>confirmed</th>\n",
       "    </tr>\n",
       "  </thead>\n",
       "  <tbody>\n",
       "    <tr>\n",
       "      <th>2021-02-24</th>\n",
       "      <td>11046914</td>\n",
       "    </tr>\n",
       "    <tr>\n",
       "      <th>2021-02-25</th>\n",
       "      <td>11063491</td>\n",
       "    </tr>\n",
       "    <tr>\n",
       "      <th>2021-02-26</th>\n",
       "      <td>11079979</td>\n",
       "    </tr>\n",
       "    <tr>\n",
       "      <th>2021-02-27</th>\n",
       "      <td>11096731</td>\n",
       "    </tr>\n",
       "    <tr>\n",
       "      <th>2021-02-28</th>\n",
       "      <td>11112241</td>\n",
       "    </tr>\n",
       "    <tr>\n",
       "      <th>2021-03-01</th>\n",
       "      <td>11124527</td>\n",
       "    </tr>\n",
       "    <tr>\n",
       "      <th>2021-03-02</th>\n",
       "      <td>11139516</td>\n",
       "    </tr>\n",
       "    <tr>\n",
       "      <th>2021-03-03</th>\n",
       "      <td>11156923</td>\n",
       "    </tr>\n",
       "    <tr>\n",
       "      <th>2021-03-04</th>\n",
       "      <td>11173761</td>\n",
       "    </tr>\n",
       "    <tr>\n",
       "      <th>2021-03-05</th>\n",
       "      <td>11192045</td>\n",
       "    </tr>\n",
       "  </tbody>\n",
       "</table>\n",
       "</div>"
      ],
      "text/plain": [
       "            confirmed\n",
       "2021-02-24   11046914\n",
       "2021-02-25   11063491\n",
       "2021-02-26   11079979\n",
       "2021-02-27   11096731\n",
       "2021-02-28   11112241\n",
       "2021-03-01   11124527\n",
       "2021-03-02   11139516\n",
       "2021-03-03   11156923\n",
       "2021-03-04   11173761\n",
       "2021-03-05   11192045"
      ]
     },
     "execution_count": 6,
     "metadata": {},
     "output_type": "execute_result"
    }
   ],
   "source": [
    "df_confirmed_country.tail(10)"
   ]
  },
  {
   "cell_type": "code",
   "execution_count": 7,
   "metadata": {
    "execution": {
     "iopub.execute_input": "2021-03-06T09:36:27.990318Z",
     "iopub.status.busy": "2021-03-06T09:36:27.989421Z",
     "iopub.status.idle": "2021-03-06T09:36:27.993441Z",
     "shell.execute_reply": "2021-03-06T09:36:27.992978Z"
    },
    "papermill": {
     "duration": 0.0216,
     "end_time": "2021-03-06T09:36:27.993571",
     "exception": false,
     "start_time": "2021-03-06T09:36:27.971971",
     "status": "completed"
    },
    "tags": []
   },
   "outputs": [
    {
     "name": "stdout",
     "output_type": "stream",
     "text": [
      "Total days in the dataset 409\n"
     ]
    }
   ],
   "source": [
    "print(\"Total days in the dataset\", len(df_confirmed_country))\n",
    "\n",
    "#Use data until 14 days before as training\n",
    "x = len(df_confirmed_country)-14"
   ]
  },
  {
   "cell_type": "code",
   "execution_count": 8,
   "metadata": {
    "execution": {
     "iopub.execute_input": "2021-03-06T09:36:28.026004Z",
     "iopub.status.busy": "2021-03-06T09:36:28.025415Z",
     "iopub.status.idle": "2021-03-06T09:36:28.029916Z",
     "shell.execute_reply": "2021-03-06T09:36:28.030351Z"
    },
    "papermill": {
     "duration": 0.02266,
     "end_time": "2021-03-06T09:36:28.030526",
     "exception": false,
     "start_time": "2021-03-06T09:36:28.007866",
     "status": "completed"
    },
    "tags": []
   },
   "outputs": [],
   "source": [
    "\n",
    "train=df_confirmed_country.iloc[:x]\n",
    "test = df_confirmed_country.iloc[x:]\n"
   ]
  },
  {
   "cell_type": "code",
   "execution_count": 9,
   "metadata": {
    "execution": {
     "iopub.execute_input": "2021-03-06T09:36:28.065354Z",
     "iopub.status.busy": "2021-03-06T09:36:28.064521Z",
     "iopub.status.idle": "2021-03-06T09:36:29.053880Z",
     "shell.execute_reply": "2021-03-06T09:36:29.054319Z"
    },
    "papermill": {
     "duration": 1.008286,
     "end_time": "2021-03-06T09:36:29.054497",
     "exception": false,
     "start_time": "2021-03-06T09:36:28.046211",
     "status": "completed"
    },
    "tags": []
   },
   "outputs": [],
   "source": [
    "##scale or normalize data as the data is too skewed\n",
    "from sklearn.preprocessing import MinMaxScaler\n",
    "scaler = MinMaxScaler()\n",
    "scaler.fit(train) \n",
    "\n",
    "train_scaled = scaler.transform(train)\n",
    "test_scaled = scaler.transform(test)"
   ]
  },
  {
   "cell_type": "code",
   "execution_count": 10,
   "metadata": {
    "execution": {
     "iopub.execute_input": "2021-03-06T09:36:29.086293Z",
     "iopub.status.busy": "2021-03-06T09:36:29.085746Z",
     "iopub.status.idle": "2021-03-06T09:36:34.183607Z",
     "shell.execute_reply": "2021-03-06T09:36:34.182569Z"
    },
    "papermill": {
     "duration": 5.114634,
     "end_time": "2021-03-06T09:36:34.183781",
     "exception": false,
     "start_time": "2021-03-06T09:36:29.069147",
     "status": "completed"
    },
    "tags": []
   },
   "outputs": [
    {
     "name": "stdout",
     "output_type": "stream",
     "text": [
      "Total number of samples in the original training data =  395\n",
      "Total number of samples in the generated data =  388\n"
     ]
    }
   ],
   "source": [
    "from keras.preprocessing.sequence import TimeseriesGenerator\n",
    "seq_size = 7  ## number of steps (lookback)\n",
    "n_features = 1 ## number of features. This dataset is univariate so it is 1\n",
    "train_generator = TimeseriesGenerator(train_scaled, train_scaled, length = seq_size, batch_size=1)\n",
    "print(\"Total number of samples in the original training data = \", len(train)) # 271\n",
    "print(\"Total number of samples in the generated data = \", len(train_generator)) # 264 with seq_size=7"
   ]
  },
  {
   "cell_type": "code",
   "execution_count": 11,
   "metadata": {
    "execution": {
     "iopub.execute_input": "2021-03-06T09:36:34.217939Z",
     "iopub.status.busy": "2021-03-06T09:36:34.217324Z",
     "iopub.status.idle": "2021-03-06T09:36:34.220008Z",
     "shell.execute_reply": "2021-03-06T09:36:34.220391Z"
    },
    "papermill": {
     "duration": 0.021776,
     "end_time": "2021-03-06T09:36:34.220552",
     "exception": false,
     "start_time": "2021-03-06T09:36:34.198776",
     "status": "completed"
    },
    "tags": []
   },
   "outputs": [],
   "source": [
    "x,y = train_generator[10] "
   ]
  },
  {
   "cell_type": "code",
   "execution_count": 12,
   "metadata": {
    "execution": {
     "iopub.execute_input": "2021-03-06T09:36:34.255002Z",
     "iopub.status.busy": "2021-03-06T09:36:34.254377Z",
     "iopub.status.idle": "2021-03-06T09:36:34.257728Z",
     "shell.execute_reply": "2021-03-06T09:36:34.258154Z"
    },
    "papermill": {
     "duration": 0.022817,
     "end_time": "2021-03-06T09:36:34.258303",
     "exception": false,
     "start_time": "2021-03-06T09:36:34.235486",
     "status": "completed"
    },
    "tags": []
   },
   "outputs": [
    {
     "data": {
      "text/plain": [
       "(1, 7, 1)"
      ]
     },
     "execution_count": 12,
     "metadata": {},
     "output_type": "execute_result"
    }
   ],
   "source": [
    "x.shape"
   ]
  },
  {
   "cell_type": "code",
   "execution_count": 13,
   "metadata": {
    "execution": {
     "iopub.execute_input": "2021-03-06T09:36:34.291815Z",
     "iopub.status.busy": "2021-03-06T09:36:34.291255Z",
     "iopub.status.idle": "2021-03-06T09:36:34.297928Z",
     "shell.execute_reply": "2021-03-06T09:36:34.297472Z"
    },
    "papermill": {
     "duration": 0.024609,
     "end_time": "2021-03-06T09:36:34.298065",
     "exception": false,
     "start_time": "2021-03-06T09:36:34.273456",
     "status": "completed"
    },
    "tags": []
   },
   "outputs": [
    {
     "name": "stdout",
     "output_type": "stream",
     "text": [
      "Total number of samples in the original training data =  14\n",
      "Total number of samples in the generated data =  7\n"
     ]
    }
   ],
   "source": [
    "test_generator = TimeseriesGenerator(test_scaled, test_scaled, length=seq_size, batch_size=1)\n",
    "print(\"Total number of samples in the original training data = \", len(test)) # 14 as we're using last 14 days for test\n",
    "print(\"Total number of samples in the generated data = \", len(test_generator)) # 7"
   ]
  },
  {
   "cell_type": "code",
   "execution_count": 14,
   "metadata": {
    "execution": {
     "iopub.execute_input": "2021-03-06T09:36:34.335087Z",
     "iopub.status.busy": "2021-03-06T09:36:34.334514Z",
     "iopub.status.idle": "2021-03-06T09:36:34.639819Z",
     "shell.execute_reply": "2021-03-06T09:36:34.638839Z"
    },
    "papermill": {
     "duration": 0.326459,
     "end_time": "2021-03-06T09:36:34.640008",
     "exception": false,
     "start_time": "2021-03-06T09:36:34.313549",
     "status": "completed"
    },
    "tags": []
   },
   "outputs": [
    {
     "name": "stdout",
     "output_type": "stream",
     "text": [
      "Model: \"sequential\"\n",
      "_________________________________________________________________\n",
      "Layer (type)                 Output Shape              Param #   \n",
      "=================================================================\n",
      "lstm (LSTM)                  (None, 7, 256)            264192    \n",
      "_________________________________________________________________\n",
      "lstm_1 (LSTM)                (None, 64)                82176     \n",
      "_________________________________________________________________\n",
      "dense (Dense)                (None, 64)                4160      \n",
      "_________________________________________________________________\n",
      "dense_1 (Dense)              (None, 1)                 65        \n",
      "=================================================================\n",
      "Total params: 350,593\n",
      "Trainable params: 350,593\n",
      "Non-trainable params: 0\n",
      "_________________________________________________________________\n",
      "Train...\n"
     ]
    }
   ],
   "source": [
    "from keras.models import Sequential\n",
    "from keras.layers import Dense, LSTM, Dropout, Activation\n",
    "\n",
    "#Define Model \n",
    "model = Sequential()\n",
    "model.add(LSTM(256, activation='relu', return_sequences=True, input_shape=(seq_size, n_features)))\n",
    "model.add(LSTM(64, activation='relu'))\n",
    "model.add(Dense(64))\n",
    "model.add(Dense(1))\n",
    "model.compile(optimizer='adam', loss='mean_squared_error')\n",
    "\n",
    "model.summary()\n",
    "print('Train...')"
   ]
  },
  {
   "cell_type": "code",
   "execution_count": 15,
   "metadata": {
    "execution": {
     "iopub.execute_input": "2021-03-06T09:36:34.676582Z",
     "iopub.status.busy": "2021-03-06T09:36:34.676017Z",
     "iopub.status.idle": "2021-03-06T09:36:46.258266Z",
     "shell.execute_reply": "2021-03-06T09:36:46.257411Z"
    },
    "papermill": {
     "duration": 11.601977,
     "end_time": "2021-03-06T09:36:46.258411",
     "exception": false,
     "start_time": "2021-03-06T09:36:34.656434",
     "status": "completed"
    },
    "tags": []
   },
   "outputs": [
    {
     "name": "stdout",
     "output_type": "stream",
     "text": [
      "Epoch 1/50\n"
     ]
    },
    {
     "name": "stderr",
     "output_type": "stream",
     "text": [
      "/opt/conda/lib/python3.7/site-packages/tensorflow/python/keras/engine/training.py:1844: UserWarning: `Model.fit_generator` is deprecated and will be removed in a future version. Please use `Model.fit`, which supports generators.\n",
      "  warnings.warn('`Model.fit_generator` is deprecated and '\n"
     ]
    },
    {
     "name": "stdout",
     "output_type": "stream",
     "text": [
      "10/10 [==============================] - 3s 86ms/step - loss: 0.2198 - val_loss: 0.4008\n",
      "Epoch 2/50\n",
      "10/10 [==============================] - 0s 17ms/step - loss: 0.0733 - val_loss: 0.0805\n",
      "Epoch 3/50\n",
      "10/10 [==============================] - 0s 16ms/step - loss: 0.0490 - val_loss: 0.1247\n",
      "Epoch 4/50\n",
      "10/10 [==============================] - 0s 17ms/step - loss: 0.0383 - val_loss: 0.0168\n",
      "Epoch 5/50\n",
      "10/10 [==============================] - 0s 16ms/step - loss: 0.0065 - val_loss: 0.0239\n",
      "Epoch 6/50\n",
      "10/10 [==============================] - 0s 16ms/step - loss: 0.0071 - val_loss: 1.5394e-05\n",
      "Epoch 7/50\n",
      "10/10 [==============================] - 0s 16ms/step - loss: 5.3318e-04 - val_loss: 5.2382e-04\n",
      "Epoch 8/50\n",
      "10/10 [==============================] - 0s 16ms/step - loss: 1.9648e-04 - val_loss: 1.1714e-04\n",
      "Epoch 9/50\n",
      "10/10 [==============================] - 0s 16ms/step - loss: 2.4070e-05 - val_loss: 9.7881e-06\n",
      "Epoch 10/50\n",
      "10/10 [==============================] - 0s 16ms/step - loss: 6.0585e-05 - val_loss: 6.4889e-04\n",
      "Epoch 11/50\n",
      "10/10 [==============================] - 0s 16ms/step - loss: 1.9560e-04 - val_loss: 3.0125e-05\n",
      "Epoch 12/50\n",
      "10/10 [==============================] - 0s 16ms/step - loss: 1.4435e-04 - val_loss: 4.2317e-05\n",
      "Epoch 13/50\n",
      "10/10 [==============================] - 0s 17ms/step - loss: 9.6813e-05 - val_loss: 8.6175e-04\n",
      "Epoch 14/50\n",
      "10/10 [==============================] - 0s 16ms/step - loss: 2.1545e-04 - val_loss: 4.6000e-04\n",
      "Epoch 15/50\n",
      "10/10 [==============================] - 0s 16ms/step - loss: 8.7381e-05 - val_loss: 9.4301e-05\n",
      "Epoch 16/50\n",
      "10/10 [==============================] - 0s 16ms/step - loss: 1.1922e-04 - val_loss: 2.1041e-04\n",
      "Epoch 17/50\n",
      "10/10 [==============================] - 0s 17ms/step - loss: 7.5375e-05 - val_loss: 1.4765e-04\n",
      "Epoch 18/50\n",
      "10/10 [==============================] - 0s 16ms/step - loss: 1.2892e-04 - val_loss: 3.8050e-05\n",
      "Epoch 19/50\n",
      "10/10 [==============================] - 0s 16ms/step - loss: 6.0827e-05 - val_loss: 5.1572e-04\n",
      "Epoch 20/50\n",
      "10/10 [==============================] - 0s 16ms/step - loss: 1.2056e-04 - val_loss: 4.5725e-08\n",
      "Epoch 21/50\n",
      "10/10 [==============================] - 0s 16ms/step - loss: 4.0562e-05 - val_loss: 6.8937e-05\n",
      "Epoch 22/50\n",
      "10/10 [==============================] - 0s 16ms/step - loss: 4.6912e-05 - val_loss: 8.0685e-06\n",
      "Epoch 23/50\n",
      "10/10 [==============================] - 0s 17ms/step - loss: 6.8641e-05 - val_loss: 4.5329e-04\n",
      "Epoch 24/50\n",
      "10/10 [==============================] - 0s 16ms/step - loss: 1.2894e-04 - val_loss: 5.2810e-05\n",
      "Epoch 25/50\n",
      "10/10 [==============================] - 0s 15ms/step - loss: 2.8393e-05 - val_loss: 6.7856e-08\n",
      "Epoch 26/50\n",
      "10/10 [==============================] - 0s 16ms/step - loss: 1.6126e-05 - val_loss: 6.0936e-06\n",
      "Epoch 27/50\n",
      "10/10 [==============================] - 0s 16ms/step - loss: 3.9795e-05 - val_loss: 2.2501e-07\n",
      "Epoch 28/50\n",
      "10/10 [==============================] - 0s 16ms/step - loss: 1.0451e-05 - val_loss: 7.7412e-06\n",
      "Epoch 29/50\n",
      "10/10 [==============================] - 0s 16ms/step - loss: 9.8839e-06 - val_loss: 5.9289e-05\n",
      "Epoch 30/50\n",
      "10/10 [==============================] - 0s 20ms/step - loss: 6.1303e-05 - val_loss: 3.3447e-04\n",
      "Epoch 31/50\n",
      "10/10 [==============================] - 0s 15ms/step - loss: 1.8256e-05 - val_loss: 4.6205e-05\n",
      "Epoch 32/50\n",
      "10/10 [==============================] - 0s 17ms/step - loss: 1.4169e-05 - val_loss: 1.8420e-04\n",
      "Epoch 33/50\n",
      "10/10 [==============================] - 0s 16ms/step - loss: 8.5346e-05 - val_loss: 1.7953e-04\n",
      "Epoch 34/50\n",
      "10/10 [==============================] - 0s 16ms/step - loss: 6.3967e-05 - val_loss: 1.2659e-07\n",
      "Epoch 35/50\n",
      "10/10 [==============================] - 0s 15ms/step - loss: 1.7129e-05 - val_loss: 1.4828e-05\n",
      "Epoch 36/50\n",
      "10/10 [==============================] - 0s 16ms/step - loss: 1.8723e-05 - val_loss: 9.1124e-06\n",
      "Epoch 37/50\n",
      "10/10 [==============================] - 0s 16ms/step - loss: 1.8917e-05 - val_loss: 2.4933e-08\n",
      "Epoch 38/50\n",
      "10/10 [==============================] - 0s 16ms/step - loss: 6.2500e-06 - val_loss: 2.3930e-08\n",
      "Epoch 39/50\n",
      "10/10 [==============================] - 0s 16ms/step - loss: 9.1768e-06 - val_loss: 2.9175e-07\n",
      "Epoch 40/50\n",
      "10/10 [==============================] - 0s 16ms/step - loss: 9.6204e-06 - val_loss: 4.3328e-05\n",
      "Epoch 41/50\n",
      "10/10 [==============================] - 0s 16ms/step - loss: 7.8514e-05 - val_loss: 1.7434e-04\n",
      "Epoch 42/50\n",
      "10/10 [==============================] - 0s 16ms/step - loss: 8.6715e-05 - val_loss: 2.4142e-04\n",
      "Epoch 43/50\n",
      "10/10 [==============================] - 0s 15ms/step - loss: 9.9242e-05 - val_loss: 3.2435e-04\n",
      "Epoch 44/50\n",
      "10/10 [==============================] - 0s 15ms/step - loss: 4.8707e-04 - val_loss: 1.2875e-05\n",
      "Epoch 45/50\n",
      "10/10 [==============================] - 0s 15ms/step - loss: 1.4288e-04 - val_loss: 1.6650e-04\n",
      "Epoch 46/50\n",
      "10/10 [==============================] - 0s 16ms/step - loss: 5.4360e-04 - val_loss: 0.0097\n",
      "Epoch 47/50\n",
      "10/10 [==============================] - 0s 15ms/step - loss: 9.3191e-04 - val_loss: 8.2107e-04\n",
      "Epoch 48/50\n",
      "10/10 [==============================] - 0s 16ms/step - loss: 0.0010 - val_loss: 7.4042e-04\n",
      "Epoch 49/50\n",
      "10/10 [==============================] - 0s 16ms/step - loss: 3.9230e-04 - val_loss: 3.1542e-06\n",
      "Epoch 50/50\n",
      "10/10 [==============================] - 0s 16ms/step - loss: 9.3113e-05 - val_loss: 2.5501e-04\n"
     ]
    }
   ],
   "source": [
    "\n",
    "history = model.fit_generator(train_generator, \n",
    "                              validation_data=test_generator, \n",
    "                              epochs=50, steps_per_epoch=10)"
   ]
  },
  {
   "cell_type": "code",
   "execution_count": 16,
   "metadata": {
    "execution": {
     "iopub.execute_input": "2021-03-06T09:36:46.394217Z",
     "iopub.status.busy": "2021-03-06T09:36:46.393565Z",
     "iopub.status.idle": "2021-03-06T09:36:46.542441Z",
     "shell.execute_reply": "2021-03-06T09:36:46.541935Z"
    },
    "papermill": {
     "duration": 0.225506,
     "end_time": "2021-03-06T09:36:46.542581",
     "exception": false,
     "start_time": "2021-03-06T09:36:46.317075",
     "status": "completed"
    },
    "tags": []
   },
   "outputs": [
    {
     "data": {
      "image/png": "[encoded data removed]",
      "text/plain": [
       "<Figure size 432x288 with 1 Axes>"
      ]
     },
     "metadata": {
      "needs_background": "light"
     },
     "output_type": "display_data"
    }
   ],
   "source": [
    "#plot the training and validation accuracy and loss at each epoch\n",
    "loss = history.history['loss']\n",
    "val_loss = history.history['val_loss']\n",
    "epochs = range(1, len(loss) + 1)\n",
    "plt.plot(epochs, loss, 'y', label='Training loss')\n",
    "plt.plot(epochs, val_loss, 'r', label='Validation loss')\n",
    "plt.title('Training and validation loss')\n",
    "plt.xlabel('Epochs')\n",
    "plt.ylabel('Loss')\n",
    "plt.legend()\n",
    "plt.show()"
   ]
  },
  {
   "cell_type": "code",
   "execution_count": 17,
   "metadata": {
    "execution": {
     "iopub.execute_input": "2021-03-06T09:36:46.663330Z",
     "iopub.status.busy": "2021-03-06T09:36:46.662784Z",
     "iopub.status.idle": "2021-03-06T09:36:46.664852Z",
     "shell.execute_reply": "2021-03-06T09:36:46.665224Z"
    },
    "papermill": {
     "duration": 0.064898,
     "end_time": "2021-03-06T09:36:46.665373",
     "exception": false,
     "start_time": "2021-03-06T09:36:46.600475",
     "status": "completed"
    },
    "tags": []
   },
   "outputs": [],
   "source": [
    "prediction = [] #Empty list to populate later with predictions\n",
    "\n",
    "current_batch = train_scaled[-seq_size:] #Final data points in train \n",
    "current_batch = current_batch.reshape(1, seq_size, n_features) #Reshape\n",
    "\n"
   ]
  },
  {
   "cell_type": "code",
   "execution_count": 18,
   "metadata": {
    "execution": {
     "iopub.execute_input": "2021-03-06T09:36:46.784287Z",
     "iopub.status.busy": "2021-03-06T09:36:46.783649Z",
     "iopub.status.idle": "2021-03-06T09:36:46.789810Z",
     "shell.execute_reply": "2021-03-06T09:36:46.789240Z"
    },
    "papermill": {
     "duration": 0.066686,
     "end_time": "2021-03-06T09:36:46.789942",
     "exception": false,
     "start_time": "2021-03-06T09:36:46.723256",
     "status": "completed"
    },
    "tags": []
   },
   "outputs": [
    {
     "data": {
      "text/plain": [
       "array([[0.99340034],\n",
       "       [0.99446152],\n",
       "       [0.99529241],\n",
       "       [0.99635004],\n",
       "       [0.99752345],\n",
       "       [0.99872529],\n",
       "       [1.        ]])"
      ]
     },
     "execution_count": 18,
     "metadata": {},
     "output_type": "execute_result"
    }
   ],
   "source": [
    "current_batch[0]"
   ]
  },
  {
   "cell_type": "code",
   "execution_count": 19,
   "metadata": {
    "execution": {
     "iopub.execute_input": "2021-03-06T09:36:46.916626Z",
     "iopub.status.busy": "2021-03-06T09:36:46.915675Z",
     "iopub.status.idle": "2021-03-06T09:36:47.961253Z",
     "shell.execute_reply": "2021-03-06T09:36:47.961647Z"
    },
    "papermill": {
     "duration": 1.112458,
     "end_time": "2021-03-06T09:36:47.961832",
     "exception": false,
     "start_time": "2021-03-06T09:36:46.849374",
     "status": "completed"
    },
    "tags": []
   },
   "outputs": [
    {
     "name": "stdout",
     "output_type": "stream",
     "text": [
      "[0.98701394]\n",
      "[[[0.99446152]\n",
      "  [0.99529241]\n",
      "  [0.99635004]\n",
      "  [0.99752345]\n",
      "  [0.99872529]\n",
      "  [1.        ]\n",
      "  [0.98701394]]]\n",
      "[0.9871502]\n",
      "[[[0.99529241]\n",
      "  [0.99635004]\n",
      "  [0.99752345]\n",
      "  [0.99872529]\n",
      "  [1.        ]\n",
      "  [0.98701394]\n",
      "  [0.98715019]]]\n",
      "[0.9865799]\n",
      "[[[0.99635004]\n",
      "  [0.99752345]\n",
      "  [0.99872529]\n",
      "  [1.        ]\n",
      "  [0.98701394]\n",
      "  [0.98715019]\n",
      "  [0.9865799 ]]]\n",
      "[0.98560905]\n",
      "[[[0.99752345]\n",
      "  [0.99872529]\n",
      "  [1.        ]\n",
      "  [0.98701394]\n",
      "  [0.98715019]\n",
      "  [0.9865799 ]\n",
      "  [0.98560905]]]\n",
      "[0.98424476]\n",
      "[[[0.99872529]\n",
      "  [1.        ]\n",
      "  [0.98701394]\n",
      "  [0.98715019]\n",
      "  [0.9865799 ]\n",
      "  [0.98560905]\n",
      "  [0.98424476]]]\n",
      "[0.9823117]\n",
      "[[[1.        ]\n",
      "  [0.98701394]\n",
      "  [0.98715019]\n",
      "  [0.9865799 ]\n",
      "  [0.98560905]\n",
      "  [0.98424476]\n",
      "  [0.98231173]]]\n",
      "[0.9798747]\n",
      "[[[0.98701394]\n",
      "  [0.98715019]\n",
      "  [0.9865799 ]\n",
      "  [0.98560905]\n",
      "  [0.98424476]\n",
      "  [0.98231173]\n",
      "  [0.97987467]]]\n",
      "[0.9768859]\n",
      "[[[0.98715019]\n",
      "  [0.9865799 ]\n",
      "  [0.98560905]\n",
      "  [0.98424476]\n",
      "  [0.98231173]\n",
      "  [0.97987467]\n",
      "  [0.97688591]]]\n",
      "[0.9757466]\n",
      "[[[0.9865799 ]\n",
      "  [0.98560905]\n",
      "  [0.98424476]\n",
      "  [0.98231173]\n",
      "  [0.97987467]\n",
      "  [0.97688591]\n",
      "  [0.97574657]]]\n",
      "[0.97426516]\n",
      "[[[0.98560905]\n",
      "  [0.98424476]\n",
      "  [0.98231173]\n",
      "  [0.97987467]\n",
      "  [0.97688591]\n",
      "  [0.97574657]\n",
      "  [0.97426516]]]\n",
      "[0.9725941]\n",
      "[[[0.98424476]\n",
      "  [0.98231173]\n",
      "  [0.97987467]\n",
      "  [0.97688591]\n",
      "  [0.97574657]\n",
      "  [0.97426516]\n",
      "  [0.97259408]]]\n",
      "[0.97079283]\n",
      "[[[0.98231173]\n",
      "  [0.97987467]\n",
      "  [0.97688591]\n",
      "  [0.97574657]\n",
      "  [0.97426516]\n",
      "  [0.97259408]\n",
      "  [0.97079283]]]\n",
      "[0.9689122]\n",
      "[[[0.97987467]\n",
      "  [0.97688591]\n",
      "  [0.97574657]\n",
      "  [0.97426516]\n",
      "  [0.97259408]\n",
      "  [0.97079283]\n",
      "  [0.96891218]]]\n",
      "[0.96705896]\n",
      "[[[0.97688591]\n",
      "  [0.97574657]\n",
      "  [0.97426516]\n",
      "  [0.97259408]\n",
      "  [0.97079283]\n",
      "  [0.96891218]\n",
      "  [0.96705896]]]\n",
      "[0.96531653]\n",
      "[[[0.97574657]\n",
      "  [0.97426516]\n",
      "  [0.97259408]\n",
      "  [0.97079283]\n",
      "  [0.96891218]\n",
      "  [0.96705896]\n",
      "  [0.96531653]]]\n",
      "[0.96378446]\n",
      "[[[0.97426516]\n",
      "  [0.97259408]\n",
      "  [0.97079283]\n",
      "  [0.96891218]\n",
      "  [0.96705896]\n",
      "  [0.96531653]\n",
      "  [0.96378446]]]\n",
      "[0.9621595]\n",
      "[[[0.97259408]\n",
      "  [0.97079283]\n",
      "  [0.96891218]\n",
      "  [0.96705896]\n",
      "  [0.96531653]\n",
      "  [0.96378446]\n",
      "  [0.96215951]]]\n",
      "[0.96050364]\n",
      "[[[0.97079283]\n",
      "  [0.96891218]\n",
      "  [0.96705896]\n",
      "  [0.96531653]\n",
      "  [0.96378446]\n",
      "  [0.96215951]\n",
      "  [0.96050364]]]\n",
      "[0.9588487]\n",
      "[[[0.96891218]\n",
      "  [0.96705896]\n",
      "  [0.96531653]\n",
      "  [0.96378446]\n",
      "  [0.96215951]\n",
      "  [0.96050364]\n",
      "  [0.95884871]]]\n",
      "[0.95721704]\n",
      "[[[0.96705896]\n",
      "  [0.96531653]\n",
      "  [0.96378446]\n",
      "  [0.96215951]\n",
      "  [0.96050364]\n",
      "  [0.95884871]\n",
      "  [0.95721704]]]\n",
      "[0.95562774]\n",
      "[[[0.96531653]\n",
      "  [0.96378446]\n",
      "  [0.96215951]\n",
      "  [0.96050364]\n",
      "  [0.95884871]\n",
      "  [0.95721704]\n",
      "  [0.95562774]]]\n"
     ]
    }
   ],
   "source": [
    "## Predict future, beyond test dates\n",
    "future = 7 #Days\n",
    "for i in range(len(test) + future):\n",
    "    current_pred = model.predict(current_batch)[0]\n",
    "    prediction.append(current_pred)\n",
    "    print(current_pred)\n",
    "    current_batch = np.append(current_batch[:,1:,:],[[current_pred]],axis=1)\n",
    "    print(current_batch)"
   ]
  },
  {
   "cell_type": "code",
   "execution_count": 20,
   "metadata": {
    "execution": {
     "iopub.execute_input": "2021-03-06T09:36:48.099660Z",
     "iopub.status.busy": "2021-03-06T09:36:48.099029Z",
     "iopub.status.idle": "2021-03-06T09:36:48.101588Z",
     "shell.execute_reply": "2021-03-06T09:36:48.101163Z"
    },
    "papermill": {
     "duration": 0.07799,
     "end_time": "2021-03-06T09:36:48.101735",
     "exception": false,
     "start_time": "2021-03-06T09:36:48.023745",
     "status": "completed"
    },
    "tags": []
   },
   "outputs": [],
   "source": [
    "\n",
    "\n",
    "### Inverse transform to before scaling so we get actual numbers\n",
    "rescaled_prediction = scaler.inverse_transform(prediction)\n",
    "\n",
    "time_series_array = test.index  #Get dates for test data\n",
    "\n",
    "#Add new dates for the forecast period\n",
    "for k in range(0, future):\n",
    "    time_series_array = time_series_array.append(time_series_array[-1:] + pd.DateOffset(1))\n",
    "\n",
    "#Create a dataframe to capture the forecast data\n",
    "df_forecast = pd.DataFrame(columns=[\"actual_confirmed\",\"predicted\"], index=time_series_array)\n",
    "\n",
    "df_forecast.loc[:,\"predicted\"] = rescaled_prediction[:,0]\n",
    "df_forecast.loc[:,\"actual_confirmed\"] = test[\"confirmed\"]"
   ]
  },
  {
   "cell_type": "code",
   "execution_count": 21,
   "metadata": {
    "execution": {
     "iopub.execute_input": "2021-03-06T09:36:48.279632Z",
     "iopub.status.busy": "2021-03-06T09:36:48.274303Z",
     "iopub.status.idle": "2021-03-06T09:36:48.474263Z",
     "shell.execute_reply": "2021-03-06T09:36:48.473654Z"
    },
    "papermill": {
     "duration": 0.311433,
     "end_time": "2021-03-06T09:36:48.474401",
     "exception": false,
     "start_time": "2021-03-06T09:36:48.162968",
     "status": "completed"
    },
    "tags": []
   },
   "outputs": [
    {
     "data": {
      "text/plain": [
       "<AxesSubplot:title={'center':'Predictions for next 7 days'}>"
      ]
     },
     "execution_count": 21,
     "metadata": {},
     "output_type": "execute_result"
    },
    {
     "data": {
      "image/png": "[encoded data removed]",
      "text/plain": [
       "<Figure size 432x288 with 1 Axes>"
      ]
     },
     "metadata": {
      "needs_background": "light"
     },
     "output_type": "display_data"
    }
   ],
   "source": [
    "#Plot\n",
    "df_forecast.plot(title=\"Predictions for next 7 days\")"
   ]
  },
  {
   "cell_type": "code",
   "execution_count": 22,
   "metadata": {
    "execution": {
     "iopub.execute_input": "2021-03-06T09:36:48.602924Z",
     "iopub.status.busy": "2021-03-06T09:36:48.602114Z",
     "iopub.status.idle": "2021-03-06T09:36:48.606404Z",
     "shell.execute_reply": "2021-03-06T09:36:48.605790Z"
    },
    "papermill": {
     "duration": 0.070257,
     "end_time": "2021-03-06T09:36:48.606531",
     "exception": false,
     "start_time": "2021-03-06T09:36:48.536274",
     "status": "completed"
    },
    "tags": []
   },
   "outputs": [
    {
     "data": {
      "text/plain": [
       "DatetimeIndex(['2021-02-20', '2021-02-21', '2021-02-22', '2021-02-23',\n",
       "               '2021-02-24', '2021-02-25', '2021-02-26', '2021-02-27',\n",
       "               '2021-02-28', '2021-03-01', '2021-03-02', '2021-03-03',\n",
       "               '2021-03-04', '2021-03-05'],\n",
       "              dtype='datetime64[ns]', freq=None)"
      ]
     },
     "execution_count": 22,
     "metadata": {},
     "output_type": "execute_result"
    }
   ],
   "source": [
    "\n",
    "time_series_array = test.index  #Get dates for test data\n",
    "\n",
    "time_series_array"
   ]
  },
  {
   "cell_type": "code",
   "execution_count": null,
   "metadata": {
    "papermill": {
     "duration": 0.060129,
     "end_time": "2021-03-06T09:36:48.727454",
     "exception": false,
     "start_time": "2021-03-06T09:36:48.667325",
     "status": "completed"
    },
    "tags": []
   },
   "outputs": [],
   "source": []
  }
 ],
 "metadata": {
  "kernelspec": {
   "display_name": "Python 3",
   "language": "python",
   "name": "python3"
  },
  "language_info": {
   "codemirror_mode": {
    "name": "ipython",
    "version": 3
   },
   "file_extension": ".py",
   "mimetype": "text/x-python",
   "name": "python",
   "nbconvert_exporter": "python",
   "pygments_lexer": "ipython3",
   "version": "3.7.9"
  },
  "papermill": {
   "default_parameters": {},
   "duration": 27.447223,
   "end_time": "2021-03-06T09:36:49.798083",
   "environment_variables": {},
   "exception": null,
   "input_path": "__notebook__.ipynb",
   "output_path": "__notebook__.ipynb",
   "parameters": {},
   "start_time": "2021-03-06T09:36:22.350860",
   "version": "2.2.2"
  }
 },
 "nbformat": 4,
 "nbformat_minor": 4
}
